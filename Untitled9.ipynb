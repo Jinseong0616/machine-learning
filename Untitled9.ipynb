{
  "nbformat": 4,
  "nbformat_minor": 0,
  "metadata": {
    "colab": {
      "name": "Untitled9.ipynb",
      "provenance": [],
      "authorship_tag": "ABX9TyPs/38Fa+BUwNPrv07WtKCP",
      "include_colab_link": true
    },
    "kernelspec": {
      "name": "python3",
      "display_name": "Python 3"
    },
    "language_info": {
      "name": "python"
    }
  },
  "cells": [
    {
      "cell_type": "markdown",
      "metadata": {
        "id": "view-in-github",
        "colab_type": "text"
      },
      "source": [
        "<a href=\"https://colab.research.google.com/github/Jinseong0616/machine-learning/blob/main/Untitled9.ipynb\" target=\"_parent\"><img src=\"https://colab.research.google.com/assets/colab-badge.svg\" alt=\"Open In Colab\"/></a>"
      ]
    },
    {
      "cell_type": "markdown",
      "metadata": {
        "id": "43c1NGv0uuIh"
      },
      "source": [
        "##일정 기간(시간) 동안 얼마 정도의 상품들이 판매되는지 수량을 예측 하는 프로그램\n"
      ]
    },
    {
      "cell_type": "markdown",
      "metadata": {
        "id": "MmE3lYL-vqh2"
      },
      "source": [
        "각 시간별 누적 판매 수를 기록하고 이에 따라 n시간이 경과되었을 경우의 판매 량을 예측하는 시스템을 개발함 으로써 상품의 재입고시 주문해야 하는 수량을 예측 가능하게 한다.\n"
      ]
    },
    {
      "cell_type": "code",
      "metadata": {
        "colab": {
          "base_uri": "https://localhost:8080/"
        },
        "id": "1hnV5mc9Vkn4",
        "outputId": "50695a69-fcb2-4eb1-9a60-fb8163e94fb8"
      },
      "source": [
        "import tensorflow.compat.v1 as tf\n",
        "tf.disable_v2_behavior()\n",
        "xData = [1, 2, 3, 4, 5, 6, 7, 8]\n",
        "yData = [10, 20, 35, 40, 60, 55, 60, 80]\n",
        "W = tf.Variable(tf.random_uniform([1], -100, 100))\n",
        "b = tf.Variable(tf.random_uniform([1], -100, 100))\n",
        "X = tf.placeholder(tf.float32)\n",
        "Y = tf.placeholder(tf.float32)\n",
        "H = W * X + b\n",
        "cost = tf.reduce_mean(tf.square(H - Y))\n",
        "a=tf.Variable(0.01)\n",
        "optimizer = tf.train.GradientDescentOptimizer(a)\n",
        "train = optimizer.minimize(cost)\n",
        "init = tf.global_variables_initializer()\n",
        "sess = tf.Session()\n",
        "sess.run(init)\n",
        "for i in range(5001):\n",
        "  sess.run(train, feed_dict={X: xData, Y: yData})\n",
        "  if i % 500 == 0:\n",
        "    print(i, sess.run(cost, feed_dict={X: xData, Y: yData}), sess.run(W), sess.run(b))\n",
        "print(sess.run(H, feed_dict={X: [9]}))\n",
        "\n"
      ],
      "execution_count": 25,
      "outputs": [
        {
          "output_type": "stream",
          "text": [
            "0 4772.5645 [34.617195] [-74.11158]\n",
            "500 51.652344 [11.0887165] [-7.0563564]\n",
            "1000 28.044483 [9.426745] [2.2877574]\n",
            "1500 27.612228 [9.2018585] [3.552139]\n",
            "2000 27.604313 [9.171429] [3.7232263]\n",
            "2500 27.60416 [9.167311] [3.7463756]\n",
            "3000 27.604166 [9.166755] [3.749509]\n",
            "3500 27.604181 [9.166681] [3.7499216]\n",
            "4000 27.604176 [9.166676] [3.7499526]\n",
            "4500 27.604176 [9.166676] [3.7499526]\n",
            "5000 27.604176 [9.166676] [3.7499526]\n",
            "[86.25003]\n"
          ],
          "name": "stdout"
        }
      ]
    }
  ]
}